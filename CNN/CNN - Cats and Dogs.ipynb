{
 "cells": [
  {
   "cell_type": "code",
   "execution_count": 1,
   "metadata": {
    "collapsed": true
   },
   "outputs": [],
   "source": [
    "import numpy as np\n",
    "import matplotlib.pyplot as plt\n",
    "from tensorflow.keras.models import Sequential\n",
    "from tensorflow.keras.layers import Dense, Conv2D, MaxPooling2D, Flatten, BatchNormalization"
   ]
  },
  {
   "cell_type": "code",
   "execution_count": 2,
   "metadata": {
    "collapsed": true
   },
   "outputs": [],
   "source": [
    "from tensorflow.keras.preprocessing.image import ImageDataGenerator\n",
    "#Generate batches of tensor image data with real-time data augmentation."
   ]
  },
  {
   "cell_type": "code",
   "execution_count": 5,
   "metadata": {
    "collapsed": true
   },
   "outputs": [],
   "source": [
    "data_gen_training = ImageDataGenerator(rescale=1.0/255,\n",
    "                                      rotation_range=30,\n",
    "                                      vertical_flip=True)\n",
    "data_gen_testing = ImageDataGenerator(rescale=1.0/255)"
   ]
  },
  {
   "cell_type": "code",
   "execution_count": 6,
   "metadata": {},
   "outputs": [
    {
     "name": "stdout",
     "output_type": "stream",
     "text": [
      "Found 200 images belonging to 2 classes.\n",
      "Found 60 images belonging to 2 classes.\n"
     ]
    }
   ],
   "source": [
    "train_X = data_gen_training.flow_from_directory(r'E:\\PythonCore\\datafiles\\SmallDataset\\training_set',\n",
    "                                               target_size=(128,128),\n",
    "                                               batch_size=32,\n",
    "                                               class_mode='binary')\n",
    "test_X = data_gen_training.flow_from_directory(r'E:\\PythonCore\\datafiles\\SmallDataset\\test_set',\n",
    "                                               target_size=(128,128),\n",
    "                                               batch_size=32,\n",
    "                                               class_mode='binary')\n",
    "# target_size - image will be resized to the dimensions mentioned"
   ]
  },
  {
   "cell_type": "code",
   "execution_count": 23,
   "metadata": {},
   "outputs": [
    {
     "name": "stdout",
     "output_type": "stream",
     "text": [
      "Model: \"sequential_4\"\n",
      "_________________________________________________________________\n",
      "Layer (type)                 Output Shape              Param #   \n",
      "=================================================================\n",
      "conv2d_12 (Conv2D)           (None, 126, 126, 32)      896       \n",
      "_________________________________________________________________\n",
      "batch_normalization_2 (Batch (None, 126, 126, 32)      128       \n",
      "_________________________________________________________________\n",
      "max_pooling2d_12 (MaxPooling (None, 63, 63, 32)        0         \n",
      "_________________________________________________________________\n",
      "conv2d_13 (Conv2D)           (None, 61, 61, 64)        18496     \n",
      "_________________________________________________________________\n",
      "batch_normalization_3 (Batch (None, 61, 61, 64)        256       \n",
      "_________________________________________________________________\n",
      "max_pooling2d_13 (MaxPooling (None, 30, 30, 64)        0         \n",
      "_________________________________________________________________\n",
      "conv2d_14 (Conv2D)           (None, 28, 28, 128)       73856     \n",
      "_________________________________________________________________\n",
      "max_pooling2d_14 (MaxPooling (None, 14, 14, 128)       0         \n",
      "_________________________________________________________________\n",
      "flatten_4 (Flatten)          (None, 25088)             0         \n",
      "_________________________________________________________________\n",
      "dense_8 (Dense)              (None, 100)               2508900   \n",
      "_________________________________________________________________\n",
      "dense_9 (Dense)              (None, 2)                 202       \n",
      "=================================================================\n",
      "Total params: 2,602,734\n",
      "Trainable params: 2,602,542\n",
      "Non-trainable params: 192\n",
      "_________________________________________________________________\n"
     ]
    }
   ],
   "source": [
    "model = Sequential()\n",
    "model.add(Conv2D(filters=32, kernel_size=(3,3),\n",
    "                                input_shape=(128,128,3)))\n",
    "model.add(BatchNormalization())\n",
    "model.add(MaxPooling2D(pool_size=(2,2)))\n",
    "model.add(Conv2D(filters=64, kernel_size=(3,3)))\n",
    "model.add(BatchNormalization())\n",
    "model.add(MaxPooling2D(pool_size=(2,2)))\n",
    "model.add(Conv2D(filters=128, kernel_size=(3,3)))\n",
    "model.add(MaxPooling2D(pool_size=(2,2)))\n",
    "model.add(Flatten())\n",
    "model.add(Dense(100, activation='relu'))\n",
    "model.add(Dense(2, activation='softmax'))\n",
    "model.summary()"
   ]
  },
  {
   "cell_type": "code",
   "execution_count": 24,
   "metadata": {
    "collapsed": true
   },
   "outputs": [],
   "source": [
    "model.compile(optimizer='adam',\n",
    "             loss='sparse_categorical_crossentropy',\n",
    "             metrics=['accuracy'])"
   ]
  },
  {
   "cell_type": "code",
   "execution_count": 25,
   "metadata": {
    "collapsed": true
   },
   "outputs": [],
   "source": [
    "from tensorflow.keras.callbacks import EarlyStopping\n",
    "stopCB = EarlyStopping(monitor='loss', patience=2)\n",
    "# patience - for how many epochs should you wait after loss increases than previous epochs"
   ]
  },
  {
   "cell_type": "code",
   "execution_count": 26,
   "metadata": {},
   "outputs": [
    {
     "name": "stdout",
     "output_type": "stream",
     "text": [
      "Epoch 1/50\n",
      "7/7 [==============================] - 10s 1s/step - loss: 4.3211 - accuracy: 0.4950 - val_loss: 1.0157 - val_accuracy: 0.5000\n",
      "Epoch 2/50\n",
      "7/7 [==============================] - 9s 1s/step - loss: 1.3452 - accuracy: 0.6550 - val_loss: 3.0467 - val_accuracy: 0.5167\n",
      "Epoch 3/50\n",
      "7/7 [==============================] - 9s 1s/step - loss: 1.4168 - accuracy: 0.6450 - val_loss: 0.6688 - val_accuracy: 0.5667\n",
      "Epoch 4/50\n",
      "7/7 [==============================] - 9s 1s/step - loss: 0.8834 - accuracy: 0.5950 - val_loss: 0.8972 - val_accuracy: 0.5000\n",
      "Epoch 5/50\n",
      "7/7 [==============================] - 9s 1s/step - loss: 0.6924 - accuracy: 0.5950 - val_loss: 0.6780 - val_accuracy: 0.6000\n",
      "Epoch 6/50\n",
      "7/7 [==============================] - 8s 1s/step - loss: 0.6531 - accuracy: 0.5350 - val_loss: 0.7141 - val_accuracy: 0.4167\n",
      "Epoch 7/50\n",
      "7/7 [==============================] - 9s 1s/step - loss: 0.7154 - accuracy: 0.6550 - val_loss: 0.7066 - val_accuracy: 0.5333\n",
      "Epoch 8/50\n",
      "7/7 [==============================] - 9s 1s/step - loss: 0.6146 - accuracy: 0.6200 - val_loss: 0.6938 - val_accuracy: 0.5167\n",
      "Epoch 9/50\n",
      "7/7 [==============================] - 8s 1s/step - loss: 0.5738 - accuracy: 0.6900 - val_loss: 0.6958 - val_accuracy: 0.4833\n",
      "Epoch 10/50\n",
      "7/7 [==============================] - 9s 1s/step - loss: 0.5526 - accuracy: 0.7650 - val_loss: 0.6879 - val_accuracy: 0.4333\n",
      "Epoch 11/50\n",
      "7/7 [==============================] - 9s 1s/step - loss: 0.5561 - accuracy: 0.6850 - val_loss: 0.6980 - val_accuracy: 0.5000\n",
      "Epoch 12/50\n",
      "7/7 [==============================] - 8s 1s/step - loss: 0.5746 - accuracy: 0.7500 - val_loss: 0.7024 - val_accuracy: 0.4667\n"
     ]
    },
    {
     "data": {
      "text/plain": [
       "<keras.callbacks.History at 0x248ae513080>"
      ]
     },
     "execution_count": 26,
     "metadata": {},
     "output_type": "execute_result"
    }
   ],
   "source": [
    "model.fit(train_X, epochs=50, validation_data = test_X,  callbacks=[stopCB])"
   ]
  },
  {
   "cell_type": "code",
   "execution_count": 37,
   "metadata": {
    "collapsed": true
   },
   "outputs": [],
   "source": [
    "from tensorflow.keras.preprocessing import image"
   ]
  },
  {
   "cell_type": "code",
   "execution_count": 38,
   "metadata": {},
   "outputs": [
    {
     "data": {
      "text/plain": [
       "(128, 128, 3)"
      ]
     },
     "execution_count": 38,
     "metadata": {},
     "output_type": "execute_result"
    }
   ],
   "source": [
    "img = image.load_img(r\"E:\\PythonCore\\datafiles\\SmallDataset\\single_prediction\\c5.jpg\",\n",
    "                    target_size=(128,128))\n",
    "test_image = np.array(img)\n",
    "test_image.shape"
   ]
  },
  {
   "cell_type": "code",
   "execution_count": 39,
   "metadata": {},
   "outputs": [
    {
     "data": {
      "text/plain": [
       "(1, 128, 128, 3)"
      ]
     },
     "execution_count": 39,
     "metadata": {},
     "output_type": "execute_result"
    }
   ],
   "source": [
    "# add a dimension to say it is a row - [1 * 128  * 128 * 3]\n",
    "test_image = np.expand_dims(test_image, axis=0)\n",
    "test_image.shape"
   ]
  },
  {
   "cell_type": "code",
   "execution_count": 40,
   "metadata": {
    "collapsed": true
   },
   "outputs": [],
   "source": [
    "np.set_printoptions(suppress = True)"
   ]
  },
  {
   "cell_type": "code",
   "execution_count": 41,
   "metadata": {},
   "outputs": [
    {
     "data": {
      "text/plain": [
       "array([[1., 0.]], dtype=float32)"
      ]
     },
     "execution_count": 41,
     "metadata": {},
     "output_type": "execute_result"
    }
   ],
   "source": [
    "model.predict(test_image)"
   ]
  },
  {
   "cell_type": "code",
   "execution_count": null,
   "metadata": {
    "collapsed": true
   },
   "outputs": [],
   "source": []
  }
 ],
 "metadata": {
  "kernelspec": {
   "display_name": "Python 3",
   "language": "python",
   "name": "python3"
  },
  "language_info": {
   "codemirror_mode": {
    "name": "ipython",
    "version": 3
   },
   "file_extension": ".py",
   "mimetype": "text/x-python",
   "name": "python",
   "nbconvert_exporter": "python",
   "pygments_lexer": "ipython3",
   "version": "3.6.3"
  }
 },
 "nbformat": 4,
 "nbformat_minor": 2
}
